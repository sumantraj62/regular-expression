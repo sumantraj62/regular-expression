{
 "cells": [
  {
   "cell_type": "code",
   "execution_count": 27,
   "id": "b1a2980a-85f9-4fda-b8b7-d8cd01e9500a",
   "metadata": {},
   "outputs": [],
   "source": [
    "import re"
   ]
  },
  {
   "cell_type": "code",
   "execution_count": 29,
   "id": "2ef39db9-ff29-4778-92f2-809e6955cf5f",
   "metadata": {},
   "outputs": [
    {
     "name": "stdout",
     "output_type": "stream",
     "text": [
      "['AP12ik,@J', 'Abdu12_*l']\n"
     ]
    }
   ],
   "source": [
    "string = \"AP12ik,@J Abdu12_*l Kalam was an Indian aerospace scientist also known as the Misile man of India\"\n",
    "pattern = \"A[a-z,A-Z0-9@,]+J|A[\\w*]+l\"\n",
    "\n",
    "result = re.findall(pattern,string)\n",
    "print(result)"
   ]
  },
  {
   "cell_type": "code",
   "execution_count": 35,
   "id": "b3557954-17be-483a-af88-327853d1ba0d",
   "metadata": {},
   "outputs": [
    {
     "name": "stdout",
     "output_type": "stream",
     "text": [
      "('a', '^ab*$')\n",
      "('ab', '^ab*$')\n",
      "('abb', '^ab*$')\n",
      "('abbb', '^ab*$')\n",
      "('b', '^ab*$')\n",
      "('ba', '^ab*$')\n",
      "('aabb', '^ab*$')\n"
     ]
    }
   ],
   "source": [
    "test_string = [\"a\",\"ab\",\"abb\",\"abbb\",\"b\",\"ba\",\"aabb\"]\n",
    "pattern = r'^ab*$'\n",
    "for string in test_string:\n",
    "    result = (string,pattern)\n",
    "    print(result)"
   ]
  },
  {
   "cell_type": "code",
   "execution_count": 37,
   "id": "be3ca95c-74ef-4d4a-b174-46b86a75ea60",
   "metadata": {},
   "outputs": [
    {
     "name": "stdout",
     "output_type": "stream",
     "text": [
      "('a', '^ab+$')\n",
      "('ab', '^ab+$')\n",
      "('abb', '^ab+$')\n",
      "('abbb', '^ab+$')\n",
      "('b', '^ab+$')\n",
      "('ba', '^ab+$')\n",
      "('aabb', '^ab+$')\n"
     ]
    }
   ],
   "source": [
    "test_string = [\"a\",\"ab\",\"abb\",\"abbb\",\"b\",\"ba\",\"aabb\"]\n",
    "pattern = r'^ab+$'\n",
    "for string in test_string:\n",
    "    result = (string,pattern)\n",
    "    print(result)"
   ]
  },
  {
   "cell_type": "code",
   "execution_count": 39,
   "id": "b3777b26-11c7-4057-a9cc-2a02d746f880",
   "metadata": {},
   "outputs": [
    {
     "name": "stdout",
     "output_type": "stream",
     "text": [
      "('a', '^ab?$')\n",
      "('ab', '^ab?$')\n",
      "('b', '^ab?$')\n",
      "('abc', '^ab?$')\n",
      "('aabb', '^ab?$')\n",
      "('ba', '^ab?$')\n"
     ]
    }
   ],
   "source": [
    "test_string = [\"a\",\"ab\",\"b\",\"abc\",\"aabb\",\"ba\"]\n",
    "pattern = r'^ab?$'\n",
    "for string in test_string:\n",
    "    result = (string,pattern)\n",
    "    print(result)"
   ]
  },
  {
   "cell_type": "code",
   "execution_count": 41,
   "id": "c39e56d4-e927-4ef5-a528-40d0fdff5e40",
   "metadata": {},
   "outputs": [
    {
     "name": "stdout",
     "output_type": "stream",
     "text": [
      "('a', '^ab{3}$')\n",
      "('ab', '^ab{3}$')\n",
      "('abb', '^ab{3}$')\n",
      "('abbb', '^ab{3}$')\n",
      "('abbbb', '^ab{3}$')\n",
      "('b', '^ab{3}$')\n",
      "('aabbb', '^ab{3}$')\n"
     ]
    }
   ],
   "source": [
    "test_string = [\"a\",\"ab\",\"abb\",\"abbb\",\"abbbb\",\"b\",\"aabbb\"]\n",
    "pattern = r'^ab{3}$'\n",
    "for string in test_string:\n",
    "    result = (string,pattern)\n",
    "    print(result)"
   ]
  },
  {
   "cell_type": "code",
   "execution_count": 43,
   "id": "5ebfd91e-04fe-4444-97e7-efcb79315247",
   "metadata": {},
   "outputs": [
    {
     "name": "stdout",
     "output_type": "stream",
     "text": [
      "('a', '^ab{2,3}$')\n",
      "('ab', '^ab{2,3}$')\n",
      "('abb', '^ab{2,3}$')\n",
      "('abbb', '^ab{2,3}$')\n",
      "('abbbb', '^ab{2,3}$')\n",
      "('b', '^ab{2,3}$')\n",
      "('aabbb', '^ab{2,3}$')\n"
     ]
    }
   ],
   "source": [
    "test_string = [\"a\",\"ab\",\"abb\",\"abbb\",\"abbbb\",\"b\",\"aabbb\"]\n",
    "pattern = r'^ab{2,3}$'\n",
    "for string in test_string:\n",
    "    result = (string,pattern)\n",
    "    print(result)"
   ]
  },
  {
   "cell_type": "code",
   "execution_count": 45,
   "id": "9e4d2725-decb-44aa-a8a1-f16157b73a4a",
   "metadata": {},
   "outputs": [
    {
     "name": "stdout",
     "output_type": "stream",
     "text": [
      "('hello world', '^\\\\w+')\n",
      "('123abc is a start', '^\\\\w+')\n",
      "('start with words', '^\\\\w+')\n",
      "('_underscore', '^\\\\w+')\n",
      "(' space at start', '^\\\\w+')\n",
      "('noMatch', '^\\\\w+')\n"
     ]
    }
   ],
   "source": [
    "test_string = [\"hello world\",\"123abc is a start\",\"start with words\",\"_underscore\",\" space at start\",\"noMatch\"]\n",
    "pattern = r'^\\w+'\n",
    "for string in test_string:\n",
    "    result = (string,pattern)\n",
    "    print(result)"
   ]
  },
  {
   "cell_type": "code",
   "execution_count": 47,
   "id": "d1be9ac9-6842-4c20-b137-c0c81eead4dd",
   "metadata": {},
   "outputs": [
    {
     "name": "stdout",
     "output_type": "stream",
     "text": [
      "('hello world', '\\\\b(\\\\w+)\\\\b$')\n",
      "('The quick brown fox', '\\\\b(\\\\w+)\\\\b$')\n",
      "('EndsWithword', '\\\\b(\\\\w+)\\\\b$')\n",
      "('start_123 end_word', '\\\\b(\\\\w+)\\\\b$')\n",
      "('123456', '\\\\b(\\\\w+)\\\\b$')\n",
      "('word with space', '\\\\b(\\\\w+)\\\\b$')\n",
      "('noMatch', '\\\\b(\\\\w+)\\\\b$')\n",
      "('a1b2c3', '\\\\b(\\\\w+)\\\\b$')\n"
     ]
    }
   ],
   "source": [
    "test_string = [\"hello world\",\"The quick brown fox\",\"EndsWithword\",\"start_123 end_word\",\"123456\",\"word with space\",\"noMatch\",\"a1b2c3\"]\n",
    "pattern = r'\\b(\\w+)\\b$'\n",
    "for string in test_string:\n",
    "    result = (string,pattern)\n",
    "    print(result)"
   ]
  },
  {
   "cell_type": "code",
   "execution_count": 55,
   "id": "fe3948bb-4116-45b3-a6e4-c486410d0813",
   "metadata": {},
   "outputs": [
    {
     "name": "stdout",
     "output_type": "stream",
     "text": [
      "Words with exactly 4 digits:\n",
      "0132\n",
      "1458\n",
      "2725\n"
     ]
    }
   ],
   "source": [
    "text = '01 0132 231875 1458 301 2725.'\n",
    "pattern = r'\\b\\d{4}\\b'\n",
    "matches = re.findall(pattern, text)\n",
    "print(\"Words with exactly 4 digits:\")\n",
    "for match in matches:\n",
    "    print(match)\n"
   ]
  },
  {
   "cell_type": "code",
   "execution_count": null,
   "id": "08f5649d-6df2-4b63-b937-55b9705c6ef2",
   "metadata": {},
   "outputs": [],
   "source": []
  },
  {
   "cell_type": "code",
   "execution_count": null,
   "id": "9d6b99a3-f312-4c63-848f-2528d105a515",
   "metadata": {},
   "outputs": [],
   "source": []
  },
  {
   "cell_type": "code",
   "execution_count": null,
   "id": "21787f0e-779b-4103-922c-7db4ac3d9566",
   "metadata": {},
   "outputs": [],
   "source": []
  },
  {
   "cell_type": "code",
   "execution_count": null,
   "id": "e299e1dd-33a6-41ca-90d9-ebc345f3d7fe",
   "metadata": {},
   "outputs": [],
   "source": []
  },
  {
   "cell_type": "code",
   "execution_count": null,
   "id": "8e7c86e4-0e22-4729-9246-101b2a4081f8",
   "metadata": {},
   "outputs": [],
   "source": []
  },
  {
   "cell_type": "code",
   "execution_count": null,
   "id": "dd66bee1-8ab8-4e12-a6fe-95a17946a882",
   "metadata": {},
   "outputs": [],
   "source": []
  },
  {
   "cell_type": "code",
   "execution_count": null,
   "id": "a6202381-0f6d-4d29-baa5-06a0c110cab2",
   "metadata": {},
   "outputs": [],
   "source": []
  },
  {
   "cell_type": "code",
   "execution_count": null,
   "id": "a40e3971-2281-4561-a16a-bde499fbc54d",
   "metadata": {},
   "outputs": [],
   "source": []
  },
  {
   "cell_type": "code",
   "execution_count": null,
   "id": "44afe15c-14e6-4728-8437-71e8f809157f",
   "metadata": {},
   "outputs": [],
   "source": []
  },
  {
   "cell_type": "code",
   "execution_count": null,
   "id": "41e1188e-b7dc-4d5a-842b-2a8f7e389c45",
   "metadata": {},
   "outputs": [],
   "source": []
  },
  {
   "cell_type": "code",
   "execution_count": null,
   "id": "7c824d4e-8c04-4a94-bf3c-65e5dabaab74",
   "metadata": {},
   "outputs": [],
   "source": []
  }
 ],
 "metadata": {
  "kernelspec": {
   "display_name": "Python 3 (ipykernel)",
   "language": "python",
   "name": "python3"
  },
  "language_info": {
   "codemirror_mode": {
    "name": "ipython",
    "version": 3
   },
   "file_extension": ".py",
   "mimetype": "text/x-python",
   "name": "python",
   "nbconvert_exporter": "python",
   "pygments_lexer": "ipython3",
   "version": "3.11.7"
  }
 },
 "nbformat": 4,
 "nbformat_minor": 5
}
